{
  "nbformat": 4,
  "nbformat_minor": 0,
  "metadata": {
    "colab": {
      "provenance": [],
      "include_colab_link": true
    },
    "kernelspec": {
      "name": "python3",
      "display_name": "Python 3"
    },
    "language_info": {
      "name": "python"
    }
  },
  "cells": [
    {
      "cell_type": "markdown",
      "metadata": {
        "id": "view-in-github",
        "colab_type": "text"
      },
      "source": [
        "<a href=\"https://colab.research.google.com/github/AnzorGozalishvili/NASA_ODSR_DATA/blob/main/dataset_curation.ipynb\" target=\"_parent\"><img src=\"https://colab.research.google.com/assets/colab-badge.svg\" alt=\"Open In Colab\"/></a>"
      ]
    },
    {
      "cell_type": "code",
      "source": [
        "!pip install bio\n",
        "!pip install biopython\n",
        "!pip install boto3 torch"
      ],
      "metadata": {
        "colab": {
          "base_uri": "https://localhost:8080/"
        },
        "id": "GHWovwG2yPV4",
        "outputId": "e14c6049-eae2-43f9-832e-196fa92f1435"
      },
      "execution_count": 1,
      "outputs": [
        {
          "output_type": "stream",
          "name": "stdout",
          "text": [
            "Collecting bio\n",
            "  Downloading bio-1.5.9-py3-none-any.whl (276 kB)\n",
            "\u001b[?25l     \u001b[90m━━━━━━━━━━━━━━━━━━━━━━━━━━━━━━━━━━━━━━━━\u001b[0m \u001b[32m0.0/276.4 kB\u001b[0m \u001b[31m?\u001b[0m eta \u001b[36m-:--:--\u001b[0m\r\u001b[2K     \u001b[91m━━━━━━━━━━━━━━━━━━━━━\u001b[0m\u001b[91m╸\u001b[0m\u001b[90m━━━━━━━━━━━━━━━━━\u001b[0m \u001b[32m153.6/276.4 kB\u001b[0m \u001b[31m4.1 MB/s\u001b[0m eta \u001b[36m0:00:01\u001b[0m\r\u001b[2K     \u001b[90m━━━━━━━━━━━━━━━━━━━━━━━━━━━━━━━━━━━━━━━\u001b[0m \u001b[32m276.4/276.4 kB\u001b[0m \u001b[31m5.0 MB/s\u001b[0m eta \u001b[36m0:00:00\u001b[0m\n",
            "\u001b[?25hCollecting biopython>=1.80 (from bio)\n",
            "  Downloading biopython-1.81-cp310-cp310-manylinux_2_17_x86_64.manylinux2014_x86_64.whl (3.1 MB)\n",
            "\u001b[2K     \u001b[90m━━━━━━━━━━━━━━━━━━━━━━━━━━━━━━━━━━━━━━━━\u001b[0m \u001b[32m3.1/3.1 MB\u001b[0m \u001b[31m49.9 MB/s\u001b[0m eta \u001b[36m0:00:00\u001b[0m\n",
            "\u001b[?25hRequirement already satisfied: requests in /usr/local/lib/python3.10/dist-packages (from bio) (2.31.0)\n",
            "Requirement already satisfied: tqdm in /usr/local/lib/python3.10/dist-packages (from bio) (4.66.1)\n",
            "Collecting mygene (from bio)\n",
            "  Downloading mygene-3.2.2-py2.py3-none-any.whl (5.4 kB)\n",
            "Requirement already satisfied: pandas in /usr/local/lib/python3.10/dist-packages (from bio) (1.5.3)\n",
            "Requirement already satisfied: pooch in /usr/local/lib/python3.10/dist-packages (from bio) (1.7.0)\n",
            "Collecting gprofiler-official (from bio)\n",
            "  Downloading gprofiler_official-1.0.0-py3-none-any.whl (9.3 kB)\n",
            "Requirement already satisfied: numpy in /usr/local/lib/python3.10/dist-packages (from biopython>=1.80->bio) (1.23.5)\n",
            "Collecting biothings-client>=0.2.6 (from mygene->bio)\n",
            "  Downloading biothings_client-0.3.0-py2.py3-none-any.whl (29 kB)\n",
            "Requirement already satisfied: python-dateutil>=2.8.1 in /usr/local/lib/python3.10/dist-packages (from pandas->bio) (2.8.2)\n",
            "Requirement already satisfied: pytz>=2020.1 in /usr/local/lib/python3.10/dist-packages (from pandas->bio) (2023.3.post1)\n",
            "Requirement already satisfied: platformdirs>=2.5.0 in /usr/local/lib/python3.10/dist-packages (from pooch->bio) (3.11.0)\n",
            "Requirement already satisfied: packaging>=20.0 in /usr/local/lib/python3.10/dist-packages (from pooch->bio) (23.2)\n",
            "Requirement already satisfied: charset-normalizer<4,>=2 in /usr/local/lib/python3.10/dist-packages (from requests->bio) (3.3.0)\n",
            "Requirement already satisfied: idna<4,>=2.5 in /usr/local/lib/python3.10/dist-packages (from requests->bio) (3.4)\n",
            "Requirement already satisfied: urllib3<3,>=1.21.1 in /usr/local/lib/python3.10/dist-packages (from requests->bio) (2.0.6)\n",
            "Requirement already satisfied: certifi>=2017.4.17 in /usr/local/lib/python3.10/dist-packages (from requests->bio) (2023.7.22)\n",
            "Requirement already satisfied: six>=1.5 in /usr/local/lib/python3.10/dist-packages (from python-dateutil>=2.8.1->pandas->bio) (1.16.0)\n",
            "Installing collected packages: biopython, gprofiler-official, biothings-client, mygene, bio\n",
            "Successfully installed bio-1.5.9 biopython-1.81 biothings-client-0.3.0 gprofiler-official-1.0.0 mygene-3.2.2\n",
            "Requirement already satisfied: biopython in /usr/local/lib/python3.10/dist-packages (1.81)\n",
            "Requirement already satisfied: numpy in /usr/local/lib/python3.10/dist-packages (from biopython) (1.23.5)\n",
            "Collecting boto3\n",
            "  Downloading boto3-1.28.62-py3-none-any.whl (135 kB)\n",
            "\u001b[2K     \u001b[90m━━━━━━━━━━━━━━━━━━━━━━━━━━━━━━━━━━━━━━━\u001b[0m \u001b[32m135.8/135.8 kB\u001b[0m \u001b[31m2.5 MB/s\u001b[0m eta \u001b[36m0:00:00\u001b[0m\n",
            "\u001b[?25hRequirement already satisfied: torch in /usr/local/lib/python3.10/dist-packages (2.0.1+cu118)\n",
            "Collecting botocore<1.32.0,>=1.31.62 (from boto3)\n",
            "  Downloading botocore-1.31.62-py3-none-any.whl (11.2 MB)\n",
            "\u001b[2K     \u001b[90m━━━━━━━━━━━━━━━━━━━━━━━━━━━━━━━━━━━━━━━━\u001b[0m \u001b[32m11.2/11.2 MB\u001b[0m \u001b[31m72.2 MB/s\u001b[0m eta \u001b[36m0:00:00\u001b[0m\n",
            "\u001b[?25hCollecting jmespath<2.0.0,>=0.7.1 (from boto3)\n",
            "  Downloading jmespath-1.0.1-py3-none-any.whl (20 kB)\n",
            "Collecting s3transfer<0.8.0,>=0.7.0 (from boto3)\n",
            "  Downloading s3transfer-0.7.0-py3-none-any.whl (79 kB)\n",
            "\u001b[2K     \u001b[90m━━━━━━━━━━━━━━━━━━━━━━━━━━━━━━━━━━━━━━━━\u001b[0m \u001b[32m79.8/79.8 kB\u001b[0m \u001b[31m7.2 MB/s\u001b[0m eta \u001b[36m0:00:00\u001b[0m\n",
            "\u001b[?25hRequirement already satisfied: filelock in /usr/local/lib/python3.10/dist-packages (from torch) (3.12.4)\n",
            "Requirement already satisfied: typing-extensions in /usr/local/lib/python3.10/dist-packages (from torch) (4.5.0)\n",
            "Requirement already satisfied: sympy in /usr/local/lib/python3.10/dist-packages (from torch) (1.12)\n",
            "Requirement already satisfied: networkx in /usr/local/lib/python3.10/dist-packages (from torch) (3.1)\n",
            "Requirement already satisfied: jinja2 in /usr/local/lib/python3.10/dist-packages (from torch) (3.1.2)\n",
            "Requirement already satisfied: triton==2.0.0 in /usr/local/lib/python3.10/dist-packages (from torch) (2.0.0)\n",
            "Requirement already satisfied: cmake in /usr/local/lib/python3.10/dist-packages (from triton==2.0.0->torch) (3.27.6)\n",
            "Requirement already satisfied: lit in /usr/local/lib/python3.10/dist-packages (from triton==2.0.0->torch) (17.0.2)\n",
            "Requirement already satisfied: python-dateutil<3.0.0,>=2.1 in /usr/local/lib/python3.10/dist-packages (from botocore<1.32.0,>=1.31.62->boto3) (2.8.2)\n",
            "Requirement already satisfied: urllib3<2.1,>=1.25.4 in /usr/local/lib/python3.10/dist-packages (from botocore<1.32.0,>=1.31.62->boto3) (2.0.6)\n",
            "Requirement already satisfied: MarkupSafe>=2.0 in /usr/local/lib/python3.10/dist-packages (from jinja2->torch) (2.1.3)\n",
            "Requirement already satisfied: mpmath>=0.19 in /usr/local/lib/python3.10/dist-packages (from sympy->torch) (1.3.0)\n",
            "Requirement already satisfied: six>=1.5 in /usr/local/lib/python3.10/dist-packages (from python-dateutil<3.0.0,>=2.1->botocore<1.32.0,>=1.31.62->boto3) (1.16.0)\n",
            "Installing collected packages: jmespath, botocore, s3transfer, boto3\n",
            "Successfully installed boto3-1.28.62 botocore-1.31.62 jmespath-1.0.1 s3transfer-0.7.0\n"
          ]
        }
      ]
    },
    {
      "cell_type": "code",
      "source": [
        "from Bio import SeqIO\n",
        "import gzip\n",
        "import pandas as pd\n",
        "import boto3\n",
        "from botocore import UNSIGNED\n",
        "from botocore.client import Config\n",
        "import requests\n",
        "import os\n",
        "from torch.utils.data import Dataset, DataLoader\n",
        "import torch\n",
        "\n",
        "import zipfile\n",
        "import io\n",
        "import csv\n"
      ],
      "metadata": {
        "id": "JhuuF2GdnO2V"
      },
      "execution_count": 3,
      "outputs": []
    },
    {
      "cell_type": "code",
      "source": [
        "# Initialize S3 client with no-sign-request configuration\n",
        "s3 = boto3.client('s3', config=Config(signature_version=UNSIGNED))\n",
        "# dir_list = [\"466\",\"465\"] #,\"524\",\"520\"\n",
        "# Specify your S3 bucket name and directory\n",
        "bucket_name = 'nasa-osdr'\n",
        "directory = 'OSD-1'\n",
        "\n",
        "directory_file_dict = {}\n",
        "directory_list = []\n",
        "\n",
        "# for i in dir_list:\n",
        "#   directory = 'OSD-'+i\n",
        "\n",
        "# List directories under the base directory\n",
        "response = s3.list_objects(Bucket=bucket_name, Prefix=directory, Delimiter='/')\n",
        "directories = [common_prefix['Prefix'] for common_prefix in response.get('CommonPrefixes', [])]\n",
        "\n",
        "# For each directory, list zip files and download them\n",
        "for directory in directories:\n",
        "    # List zip files in the directory\n",
        "    response = s3.list_objects(Bucket=bucket_name, Prefix=directory)\n",
        "    zip_files = [obj['Key'] for obj in response['Contents'] if obj['Key'].endswith('.zip') if \"metadata\" in obj[\"Key\"]]\n",
        "\n",
        "    # Initialize a list to store filenames for this directory\n",
        "    directory_filenames = []\n",
        "\n",
        "    # Download each zip file\n",
        "    for zip_file_key in zip_files:\n",
        "        # Extract filename from file key\n",
        "        filename = zip_file_key.split('/')[-1]\n",
        "\n",
        "        # Add the filename to the list for this directory\n",
        "        directory_filenames.append(filename)\n",
        "        dir = \"/\".join(zip_file_key.split('/')[:1]) + \"/\"\n",
        "        directory_list.append(dir)\n",
        "\n",
        "        # Create a directory to store downloaded files\n",
        "        os.makedirs(f'downloaded_data/'+ dir, exist_ok=True)\n",
        "\n",
        "        # Check if the file already exists\n",
        "        if os.path.exists(f'downloaded_data/{dir}'+\"/\"+filename):\n",
        "            # print(f'{filename} already exists. Skipping...')\n",
        "            continue\n",
        "        # Download the zip file\n",
        "        s3.download_file(bucket_name, zip_file_key, f'downloaded_data/{dir}'+\"/\"+filename)\n",
        "\n",
        "    # Add the list of filenames to the dictionary under the directory name\n",
        "    directory_name = directory.rstrip('/')  # Remove trailing slash\n",
        "    directory_file_dict[directory_name] = directory_filenames\n"
      ],
      "metadata": {
        "id": "meZ7CJzhTryr"
      },
      "execution_count": 4,
      "outputs": []
    },
    {
      "cell_type": "code",
      "source": [
        "directory_file_dict"
      ],
      "metadata": {
        "colab": {
          "base_uri": "https://localhost:8080/"
        },
        "id": "Dj9kwAXNvmqw",
        "outputId": "2d70d0cc-d760-4faf-ac34-a40b7eadf958"
      },
      "execution_count": 8,
      "outputs": [
        {
          "output_type": "execute_result",
          "data": {
            "text/plain": [
              "{'OSD-1': ['OSD-1_metadata_OSD-1-ISA.zip'],\n",
              " 'OSD-100': ['OSD-100_metadata_OSD-100-ISA.zip'],\n",
              " 'OSD-101': ['GLDS-101_metadata_GLDS-101-ISA.zip'],\n",
              " 'OSD-102': ['OSD-102_metadata_OSD-102-ISA.zip'],\n",
              " 'OSD-103': ['OSD-103_metadata_OSD-103-ISA.zip'],\n",
              " 'OSD-104': ['GLDS-104_metadata_GLDS-104-ISA.zip'],\n",
              " 'OSD-105': ['GLDS-105_metadata_GLDS-105-ISA.zip'],\n",
              " 'OSD-106': ['GLDS-106_metadata_GSE90166-ISA.zip'],\n",
              " 'OSD-107': ['GLDS-107_metadata_E-GEOD-78980-ISA.zip'],\n",
              " 'OSD-108': ['GLDS-108_metadata_STS135_Liver_MET-ISA.zip'],\n",
              " 'OSD-109': ['GLDS-109_metadata_E-GEOD-68874-ISA.zip'],\n",
              " 'OSD-11': ['OSD-11_metadata_GLDS-11-ISA.zip'],\n",
              " 'OSD-110': ['GLDS-110_metadata_PXD002096-ISA.zip'],\n",
              " 'OSD-111': ['GLDS-111_metadata_GSE80223-ISA.zip'],\n",
              " 'OSD-112': ['GLDS-112_metadata_GSE71770-ISA.zip'],\n",
              " 'OSD-113': ['OSD-113_metadata_OSD-113-ISA.zip'],\n",
              " 'OSD-114': ['GLDS-114_metadata_GSE93860-ISA.zip'],\n",
              " 'OSD-115': ['GLDS-115_metadata_E-GEOD-12647-ISA.zip'],\n",
              " 'OSD-116': ['GLDS-116_metadata_STS-135_Skin-ISA.zip'],\n",
              " 'OSD-117': ['GLDS-117_metadata_E-GEOD-68875-ISA.zip'],\n",
              " 'OSD-118': ['GLDS-118_metadata_MICRO7-v1-ISA.zip'],\n",
              " 'OSD-119': ['GLDS-119_metadata_Foster-ISA.zip'],\n",
              " 'OSD-12': ['GLDS-12_metadata_E-GEOD-4136-ISA.zip'],\n",
              " 'OSD-120': ['GLDS-120_metadata_GLDS-120-ISA.zip',\n",
              "  'OSD-120_metadata_OSD-120-ISA.zip'],\n",
              " 'OSD-121': ['GLDS-121_metadata_GLDS-121-ISA.zip'],\n",
              " 'OSD-122': ['GLDS-122_metadata_Bowles_ISA.zip'],\n",
              " 'OSD-123': ['GLDS-123_metadata_GLDS-123-ISA.zip'],\n",
              " 'OSD-124': ['GLDS-124_metadata_E-GEOD-57298-ISA.zip'],\n",
              " 'OSD-125': ['GLDS-125_metadata_GSE69271-ISA.zip'],\n",
              " 'OSD-126': ['GLDS-126_metadata_GLDS-126-ISA.zip'],\n",
              " 'OSD-127': ['GLDS-127_metadata_GLDS-127-ISA.zip'],\n",
              " 'OSD-128': ['GLDS-128_metadata_GSE20120-ISA.zip'],\n",
              " 'OSD-129': ['GLDS-129_metadata_GSE20173-ISA.zip'],\n",
              " 'OSD-13': ['GLDS-13_metadata_E-GEOD-38836-ISA.zip'],\n",
              " 'OSD-130': ['GLDS-130_metadata_GSE95050-ISA.zip'],\n",
              " 'OSD-131': ['GLDS-131_metadata_GSE45609-ISA.zip'],\n",
              " 'OSD-132': ['GLDS-132_metadata_PRJNA355122-ISA.zip'],\n",
              " 'OSD-133': ['GLDS-133_metadata_PRJDB5292_ISA.zip'],\n",
              " 'OSD-134': ['OSD-134_metadata_OSD-134-ISA.zip'],\n",
              " 'OSD-135': ['GLDS-135_metadata_GSE94381-ISA.zip'],\n",
              " 'OSD-136': ['GLDS-136_metadata_GSE87868-ISA.zip'],\n",
              " 'OSD-137': ['OSD-137_metadata_OSD-137-ISA.zip',\n",
              "  'OSD-137_metadata_OSD-137-ISA.zip'],\n",
              " 'OSD-138': ['GLDS-138_metadata_BRIC23_Bacillus-ISA.zip'],\n",
              " 'OSD-139': ['GLDS-139_metadata_PXD005035-ISA.zip'],\n",
              " 'OSD-14': ['GLDS-14_metadata_E-GEOD-16970-ISA.zip'],\n",
              " 'OSD-140': ['GLDS-140_metadata_E-GEOD-64950-ISA.zip'],\n",
              " 'OSD-141': ['GLDS-141_metadata_GLDS-141-ISA.zip'],\n",
              " 'OSD-144': ['GLDS-144_metadata_E-GEOD-60473-ISA.zip'],\n",
              " 'OSD-145': ['GLDS-145_metadata_BRIC-23_SA-ISA.zip'],\n",
              " 'OSD-146': ['GLDS-146_metadata_PRJNA368790-ISA.zip'],\n",
              " 'OSD-147': ['GLDS-147_metadata_GLDS-147-ISA.zip',\n",
              "  'OSD-147_metadata_GLDS-147-ISA.zip'],\n",
              " 'OSD-148': ['GLDS-148_metadata_E-GEOD-42233-v1-ISA.zip'],\n",
              " 'OSD-149': ['GLDS-149_metadata_E-GEOD-27520-v1-ISA.zip'],\n",
              " 'OSD-15': ['GLDS-15_metadata_E-GEOD-22684-ISA.zip'],\n",
              " 'OSD-151': ['GLDS-151_metadata_E-GEOD-23803-v1-ISA.zip'],\n",
              " 'OSD-152': ['OSD-152_metadata_OSD-152-ISA.zip'],\n",
              " 'OSD-153': ['GLDS-153_metadata_E-GEOD-18216-ISA.zip'],\n",
              " 'OSD-154': ['GLDS-154_metadata_E-GEOD-22639-ISA.zip'],\n",
              " 'OSD-155': ['GLDS-155_metadata_E-GEOD-23515-v1-ISA.zip'],\n",
              " 'OSD-156': ['GLDS-156_metadata_E-GEOD-33172-ISA.zip'],\n",
              " 'OSD-157': ['GLDS-157_metadata_E-GEOD-44201-v1-ISA.zip'],\n",
              " 'OSD-158': ['GLDS-158_metadata_E-GEOD-57196-ISA.zip'],\n",
              " 'OSD-159': ['GLDS-159_metadata_E-GEOD-52690-ISA.zip'],\n",
              " 'OSD-16': ['GLDS-16_metadata_PXD001179-ISA.zip'],\n",
              " 'OSD-160': ['GLDS-160_metadata_E-GEOD-61208-ISA.zip'],\n",
              " 'OSD-161': ['OSD-161_metadata_GLDS-161-ISA.zip'],\n",
              " 'OSD-162': ['OSD-162_metadata_OSD-162-ISA.zip'],\n",
              " 'OSD-163': ['OSD-163_metadata_GLDS-163-ISA.zip'],\n",
              " 'OSD-164': ['GLDS-164_metadata_GLDS-164-ISA.zip'],\n",
              " 'OSD-165': ['GLDS-165_metadata_GSE90823-ISA.zip'],\n",
              " 'OSD-166': ['GLDS-166_metadata_GSE90872-ISA.zip'],\n",
              " 'OSD-167': ['GLDS-167_metadata_GLDS-167-ISA.zip'],\n",
              " 'OSD-168': ['GLDS-168_metadata_GLDS-168-ISA.zip'],\n",
              " 'OSD-17': ['GLDS-17_metadata_E-MTAB-1009-ISA.zip'],\n",
              " 'OSD-170': ['GLDS-170_metadata_DSmith_SIF-ISA.zip'],\n",
              " 'OSD-172': ['GLDS-172_metadata_GSE94253-ISA.zip'],\n",
              " 'OSD-173': ['OSD-173_metadata_GLDS-173-ISA.zip'],\n",
              " 'OSD-174': ['GLDS-174_metadata_E-GEOD-74708-ISA.zip'],\n",
              " 'OSD-175': ['GLDS-175_metadata_E-GEOD-12435-ISA.zip'],\n",
              " 'OSD-176': ['GLDS-176_metadata_E-GEOD-18760-v1-ISA.zip'],\n",
              " 'OSD-177': ['GLDS-177_metadata_GLDS-177-ISA.zip'],\n",
              " 'OSD-178': ['GLDS-178_metadata_E-GEOD-21059-ISA.zip'],\n",
              " 'OSD-18': ['GLDS-18_metadata_E-GEOD-21093-ISA.zip'],\n",
              " 'OSD-182': ['GLDS-182_metadata_E-GEOD-24945-ISA.zip'],\n",
              " 'OSD-183': ['GLDS-183_metadata_E-GEOD-55869-ISA.zip'],\n",
              " 'OSD-185': ['GLDS-185_metadata_BRIC-21-ISA.zip'],\n",
              " 'OSD-188': ['GLDS-188_metadata_GSE94255-ISA.zip'],\n",
              " 'OSD-189': ['GLDS-189_metadata_GSE101101-ISA.zip'],\n",
              " 'OSD-19': ['GLDS-19_metadata_E-GEOD-1105-ISA.zip'],\n",
              " 'OSD-190': ['GLDS-190_metadata_E-GEOD-38877-v1-ISA.zip'],\n",
              " 'OSD-191': [],\n",
              " 'OSD-192': ['GLDS-192_metadata_PRJNA400816-ISA.zip'],\n",
              " 'OSD-193': ['GLDS-193_metadata_APEX03-2_RNA-Seq_Col0-ISA.zip'],\n",
              " 'OSD-194': ['OSD-194_metadata_OSD-194-ISA.zip'],\n",
              " 'OSD-195': ['GLDS-195_metadata_GSE104999-ISA.zip'],\n",
              " 'OSD-198': ['GLDS-198_metadata_GSE74469-ISA.zip'],\n",
              " 'OSD-199': ['GLDS-199_metadata_PRJNA309675-v1-ISA.zip']}"
            ]
          },
          "metadata": {},
          "execution_count": 8
        }
      ]
    },
    {
      "cell_type": "code",
      "source": [
        "directory_list"
      ],
      "metadata": {
        "colab": {
          "base_uri": "https://localhost:8080/"
        },
        "id": "j1hK92DCtWaE",
        "outputId": "3a889e17-ee27-4521-c5e0-d309764ac76a"
      },
      "execution_count": 5,
      "outputs": [
        {
          "output_type": "execute_result",
          "data": {
            "text/plain": [
              "['OSD-1/',\n",
              " 'OSD-100/',\n",
              " 'OSD-101/',\n",
              " 'OSD-102/',\n",
              " 'OSD-103/',\n",
              " 'OSD-104/',\n",
              " 'OSD-105/',\n",
              " 'OSD-106/',\n",
              " 'OSD-107/',\n",
              " 'OSD-108/',\n",
              " 'OSD-109/',\n",
              " 'OSD-11/',\n",
              " 'OSD-110/',\n",
              " 'OSD-111/',\n",
              " 'OSD-112/',\n",
              " 'OSD-113/',\n",
              " 'OSD-114/',\n",
              " 'OSD-115/',\n",
              " 'OSD-116/',\n",
              " 'OSD-117/',\n",
              " 'OSD-118/',\n",
              " 'OSD-119/',\n",
              " 'OSD-12/',\n",
              " 'OSD-120/',\n",
              " 'OSD-120/',\n",
              " 'OSD-121/',\n",
              " 'OSD-122/',\n",
              " 'OSD-123/',\n",
              " 'OSD-124/',\n",
              " 'OSD-125/',\n",
              " 'OSD-126/',\n",
              " 'OSD-127/',\n",
              " 'OSD-128/',\n",
              " 'OSD-129/',\n",
              " 'OSD-13/',\n",
              " 'OSD-130/',\n",
              " 'OSD-131/',\n",
              " 'OSD-132/',\n",
              " 'OSD-133/',\n",
              " 'OSD-134/',\n",
              " 'OSD-135/',\n",
              " 'OSD-136/',\n",
              " 'OSD-137/',\n",
              " 'OSD-137/',\n",
              " 'OSD-138/',\n",
              " 'OSD-139/',\n",
              " 'OSD-14/',\n",
              " 'OSD-140/',\n",
              " 'OSD-141/',\n",
              " 'OSD-144/',\n",
              " 'OSD-145/',\n",
              " 'OSD-146/',\n",
              " 'OSD-147/',\n",
              " 'OSD-147/',\n",
              " 'OSD-148/',\n",
              " 'OSD-149/',\n",
              " 'OSD-15/',\n",
              " 'OSD-151/',\n",
              " 'OSD-152/',\n",
              " 'OSD-153/',\n",
              " 'OSD-154/',\n",
              " 'OSD-155/',\n",
              " 'OSD-156/',\n",
              " 'OSD-157/',\n",
              " 'OSD-158/',\n",
              " 'OSD-159/',\n",
              " 'OSD-16/',\n",
              " 'OSD-160/',\n",
              " 'OSD-161/',\n",
              " 'OSD-162/',\n",
              " 'OSD-163/',\n",
              " 'OSD-164/',\n",
              " 'OSD-165/',\n",
              " 'OSD-166/',\n",
              " 'OSD-167/',\n",
              " 'OSD-168/',\n",
              " 'OSD-17/',\n",
              " 'OSD-170/',\n",
              " 'OSD-172/',\n",
              " 'OSD-173/',\n",
              " 'OSD-174/',\n",
              " 'OSD-175/',\n",
              " 'OSD-176/',\n",
              " 'OSD-177/',\n",
              " 'OSD-178/',\n",
              " 'OSD-18/',\n",
              " 'OSD-182/',\n",
              " 'OSD-183/',\n",
              " 'OSD-185/',\n",
              " 'OSD-188/',\n",
              " 'OSD-189/',\n",
              " 'OSD-19/',\n",
              " 'OSD-190/',\n",
              " 'OSD-192/',\n",
              " 'OSD-193/',\n",
              " 'OSD-194/',\n",
              " 'OSD-195/',\n",
              " 'OSD-198/',\n",
              " 'OSD-199/']"
            ]
          },
          "metadata": {},
          "execution_count": 5
        }
      ]
    },
    {
      "cell_type": "code",
      "source": [
        "for directory in directory_list:\n",
        "  # Define the directory containing the downloaded zip files\n",
        "  downloaded_dir = f'downloaded_data/{directory}'\n",
        "  # Loop through the downloaded zip files\n",
        "  for filename in os.listdir(downloaded_dir):\n",
        "      # print(filename)\n",
        "      if filename.endswith('.txt'):\n",
        "        continue\n",
        "      if filename.endswith('.zip'):\n",
        "          zip_filepath = os.path.join(downloaded_dir, filename)\n",
        "\n",
        "          # Extract only text files from the specified folder\n",
        "          with zipfile.ZipFile(zip_filepath, 'r') as zip_ref:\n",
        "              for item in zip_ref.infolist():\n",
        "                zip_ref.extract(item, downloaded_dir)\n",
        "\n",
        "          # Remove the zip file after extraction\n",
        "          os.remove(zip_filepath)\n",
        "          # print(f'Removed {filename}')\n",
        "      else:\n",
        "          continue\n",
        "      #     # Add the code you want to execute if zip files are found here"
      ],
      "metadata": {
        "id": "OZKBITooMU4p"
      },
      "execution_count": 9,
      "outputs": []
    },
    {
      "cell_type": "code",
      "source": [
        "# lst_file_keys[:5]"
      ],
      "metadata": {
        "id": "KDa-_R7N_q7b"
      },
      "execution_count": null,
      "outputs": []
    },
    {
      "cell_type": "code",
      "source": [
        "from genericpath import exists\n",
        "import pandas as pd\n",
        "\n",
        "\n",
        "# Define the delimiter used in the text files\n",
        "delimiter = '\\t'  # For tab-separated files\n",
        "# found_files = []\n",
        "for dir in directory_list:\n",
        "  # Define the root directory\n",
        "  root_dir = f'downloaded_data/'+ dir  # Replace with the actual root directory\n",
        "  # Define the file extension you're looking for\n",
        "  target_extension = '.txt'  # Change to the extension you're interested in\n",
        "\n",
        "  # List to store found file paths\n",
        "\n",
        "  # Loop through all directories and subdirectories\n",
        "  for dirpath, dirnames, filenames in os.walk(root_dir):\n",
        "      for filename in filenames:\n",
        "          target_extension = '.txt'\n",
        "          if filename.endswith(target_extension):\n",
        "            file_path = os.path.join(dirpath, filename)\n",
        "\n",
        "            if \"investigation\" in filename.lower():\n",
        "              os.remove(file_path)\n",
        "              continue\n",
        "\n",
        "            # Read the text file and convert to CSV\n",
        "            df = pd.read_csv(file_path, delimiter=delimiter, encoding='cp1252', on_bad_lines='skip')\n",
        "            csv_file = file_path.replace('.txt', '.csv')  # Replace .txt with .csv in the file name\n",
        "            df.to_csv(csv_file, index=False)\n",
        "            os.remove(file_path)\n",
        "\n"
      ],
      "metadata": {
        "id": "133x6EK-6czW"
      },
      "execution_count": 10,
      "outputs": []
    },
    {
      "cell_type": "code",
      "source": [
        "!ls downloaded_data/OSD-136/"
      ],
      "metadata": {
        "colab": {
          "base_uri": "https://localhost:8080/"
        },
        "id": "lejqsGMm0UD5",
        "outputId": "d7409875-69e7-4275-9b07-223d2f9e7111"
      },
      "execution_count": 27,
      "outputs": [
        {
          "output_type": "stream",
          "name": "stdout",
          "text": [
            "a_GLDS-136_microarray_metadata.csv  s_GLDS-136_microarray_metadata.csv\n",
            "i_GLDS-136_microarray_metadata.csv\n"
          ]
        }
      ]
    },
    {
      "cell_type": "code",
      "source": [
        "per_dir_assays = {}\n",
        "per_dir_samples = {}\n",
        "for directory in directory_list:\n",
        "  per_dir_assays[directory] = []\n",
        "  per_dir_samples[directory] = []\n",
        "\n",
        "  root_dir = f'downloaded_data/'+ directory\n",
        "\n",
        "  for dirpath, dirnames, filenames in os.walk(root_dir):\n",
        "    for filename in filenames:\n",
        "\n",
        "      if filename.endswith('.csv'):\n",
        "        file_path = os.path.join(dirpath, filename)\n",
        "        df = pd.read_csv(file_path, encoding='cp1252')\n",
        "        df_columns_lowercase = [str(x.strip().lower()) for x in df.columns]\n",
        "\n",
        "        if 'source name' in df_columns_lowercase:\n",
        "          per_dir_assays[directory].append(file_path)\n",
        "\n",
        "        elif 'sample name' in df_columns_lowercase:\n",
        "          per_dir_samples[directory].append(file_path)"
      ],
      "metadata": {
        "id": "nXOhy0GnxvEO"
      },
      "execution_count": 34,
      "outputs": []
    },
    {
      "cell_type": "code",
      "source": [
        "per_dir_samples"
      ],
      "metadata": {
        "id": "rSSj3mNWxUiS"
      },
      "execution_count": null,
      "outputs": []
    },
    {
      "cell_type": "code",
      "source": [
        "pd.Series(per_dir_samples).apply(len).value_counts()"
      ],
      "metadata": {
        "colab": {
          "base_uri": "https://localhost:8080/"
        },
        "id": "vijhqxFy1XPN",
        "outputId": "90d75575-94c5-4f68-b86c-985c717a7551"
      },
      "execution_count": 41,
      "outputs": [
        {
          "output_type": "execute_result",
          "data": {
            "text/plain": [
              "1    79\n",
              "2     7\n",
              "4     7\n",
              "3     3\n",
              "dtype: int64"
            ]
          },
          "metadata": {},
          "execution_count": 41
        }
      ]
    },
    {
      "cell_type": "code",
      "source": [
        "pd.Series(per_dir_assays).apply(len).value_counts()"
      ],
      "metadata": {
        "colab": {
          "base_uri": "https://localhost:8080/"
        },
        "id": "2R58GgD41pon",
        "outputId": "5d555cc5-d69a-47d2-e2df-9e2356bee024"
      },
      "execution_count": 42,
      "outputs": [
        {
          "output_type": "execute_result",
          "data": {
            "text/plain": [
              "1    94\n",
              "2     2\n",
              "dtype: int64"
            ]
          },
          "metadata": {},
          "execution_count": 42
        }
      ]
    },
    {
      "cell_type": "code",
      "source": [
        "len(pd.Series(pd.Series(per_dir_samples).apply(lambda x: [x.strip().lower() for x in pd.read_csv(x[0]).columns]).sum()).unique().tolist())"
      ],
      "metadata": {
        "colab": {
          "base_uri": "https://localhost:8080/"
        },
        "id": "foPovKor3uIy",
        "outputId": "676daa7e-0b74-47be-e040-00dc2a614174"
      },
      "execution_count": 55,
      "outputs": [
        {
          "output_type": "execute_result",
          "data": {
            "text/plain": [
              "274"
            ]
          },
          "metadata": {},
          "execution_count": 55
        }
      ]
    },
    {
      "cell_type": "code",
      "source": [
        "len(pd.Series(pd.Series(per_dir_assays).apply(lambda x: [x.strip().lower() for x in pd.read_csv(x[0]).columns]).sum()).unique().tolist())"
      ],
      "metadata": {
        "colab": {
          "base_uri": "https://localhost:8080/"
        },
        "id": "DkfDw3_R2KQh",
        "outputId": "ad67ee69-f68e-4461-de18-186191405226"
      },
      "execution_count": 54,
      "outputs": [
        {
          "output_type": "execute_result",
          "data": {
            "text/plain": [
              "336"
            ]
          },
          "metadata": {},
          "execution_count": 54
        }
      ]
    },
    {
      "cell_type": "code",
      "source": [
        "all_assay_dfs = []\n",
        "for dir, assay_files in per_dir_assays.items():\n",
        "  # take first file only!\n",
        "  df = pd.read_csv(assay_files[0])\n",
        "  df.columns = [x.strip().lower() for x in df.columns]\n",
        "  df['osdr_experiment_id'] = dir.rstrip('/')\n",
        "  all_assay_dfs.append(df)\n",
        "\n",
        "assays_df = pd.concat(all_assay_dfs)\n",
        "assays_df.reset_index(drop=True, inplace=True)\n",
        "assays_df.to_csv('assays.csv')"
      ],
      "metadata": {
        "id": "0-n1KGN44SqQ"
      },
      "execution_count": 71,
      "outputs": []
    },
    {
      "cell_type": "code",
      "source": [
        "all_sample_dfs = []\n",
        "for dir, sample_files in per_dir_samples.items():\n",
        "  # take first file only!\n",
        "  df = pd.read_csv(sample_files[0])\n",
        "  df.columns = [x.strip().lower() for x in df.columns]\n",
        "  df['osdr_experiment_id'] = dir.rstrip('/')\n",
        "  all_sample_dfs.append(df)\n",
        "\n",
        "samples_df = pd.concat(all_sample_dfs)\n",
        "samples_df.reset_index(drop=True, inplace=True)\n",
        "samples_df.to_csv('samples.csv')"
      ],
      "metadata": {
        "id": "oznZeXhh6C8h"
      },
      "execution_count": 72,
      "outputs": []
    }
  ]
}