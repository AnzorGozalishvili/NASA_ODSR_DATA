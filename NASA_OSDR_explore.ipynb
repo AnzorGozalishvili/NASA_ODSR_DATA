{
  "nbformat": 4,
  "nbformat_minor": 0,
  "metadata": {
    "colab": {
      "provenance": [],
      "authorship_tag": "ABX9TyO7HRNERvLbr4YgMklHJAf3",
      "include_colab_link": true
    },
    "kernelspec": {
      "name": "python3",
      "display_name": "Python 3"
    },
    "language_info": {
      "name": "python"
    }
  },
  "cells": [
    {
      "cell_type": "markdown",
      "metadata": {
        "id": "view-in-github",
        "colab_type": "text"
      },
      "source": [
        "<a href=\"https://colab.research.google.com/github/AnzorGozalishvili/NASA_ODSR_DATA/blob/main/NASA_OSDR_explore.ipynb\" target=\"_parent\"><img src=\"https://colab.research.google.com/assets/colab-badge.svg\" alt=\"Open In Colab\"/></a>"
      ]
    },
    {
      "cell_type": "code",
      "source": [
        "!pip install datasets"
      ],
      "metadata": {
        "id": "4apFKHVLZV-u"
      },
      "execution_count": null,
      "outputs": []
    },
    {
      "cell_type": "code",
      "execution_count": 3,
      "metadata": {
        "id": "jryOzZcMZBCz"
      },
      "outputs": [],
      "source": [
        "import datasets"
      ]
    },
    {
      "cell_type": "code",
      "source": [
        "from datasets import load_dataset"
      ],
      "metadata": {
        "id": "YW96GTnyZksY"
      },
      "execution_count": 4,
      "outputs": []
    },
    {
      "cell_type": "code",
      "source": [
        "dataset = load_dataset('anz2/NASA_OSDR')"
      ],
      "metadata": {
        "id": "QoKwqOT3Zmmb"
      },
      "execution_count": 9,
      "outputs": []
    },
    {
      "cell_type": "code",
      "source": [
        "dataset['train'][10]"
      ],
      "metadata": {
        "colab": {
          "base_uri": "https://localhost:8080/"
        },
        "id": "UDIXOSGbh5zU",
        "outputId": "95d2633a-e06f-4bf1-bd8b-4587841d1afe"
      },
      "execution_count": 17,
      "outputs": [
        {
          "output_type": "execute_result",
          "data": {
            "text/plain": [
              "{'Sample Name': 'GSM2684068',\n",
              " 'Protocol REF': 'Nucleic Acid Extraction',\n",
              " 'Parameter Value: DNA Fragmentation': 'sonication',\n",
              " 'Parameter Value: DNA Fragment Size': '200-300 base pair',\n",
              " 'Extract Name': 'GSM2684068',\n",
              " 'Protocol REF.1': 'Library Construction',\n",
              " 'Parameter Value: Library Strategy': 'BisPCR2',\n",
              " 'Parameter Value: Library Selection': 'other',\n",
              " 'Parameter Value: Library Layout': 'PAIRED',\n",
              " 'Protocol REF.2': 'Nucleic Acid Sequencing',\n",
              " 'Parameter Value: Sequencing Instrument': 'Illumina MiSeq',\n",
              " 'Assay Name': 'BisPCR2',\n",
              " 'Parameter Value: Read Length': '150 base pair',\n",
              " 'Raw Data File': 'GLDS-524_wgbs_GSM2684068_R1_raw.fastq.gz, GLDS-524_wgbs_GSM2684068_R2_raw.fastq.gz',\n",
              " 'Protocol REF.3': 'GeneLab raw data processing protocol',\n",
              " 'Parameter Value: Read Depth': '199027 read',\n",
              " 'Parameter Value: MultiQC File Names': 'GLDS-524_Gwgbs_raw_multiqc_report.zip'}"
            ]
          },
          "metadata": {},
          "execution_count": 17
        }
      ]
    },
    {
      "cell_type": "code",
      "source": [
        "fasta_file_names = dataset['train'][10]['Raw Data File']"
      ],
      "metadata": {
        "id": "cGQah8oTiaR5"
      },
      "execution_count": 18,
      "outputs": []
    },
    {
      "cell_type": "code",
      "source": [
        "fasta_file_names"
      ],
      "metadata": {
        "colab": {
          "base_uri": "https://localhost:8080/",
          "height": 35
        },
        "id": "z-CEcC7sifSB",
        "outputId": "9f219242-d6ec-409b-838d-b52e87ede33e"
      },
      "execution_count": 19,
      "outputs": [
        {
          "output_type": "execute_result",
          "data": {
            "text/plain": [
              "'GLDS-524_wgbs_GSM2684068_R1_raw.fastq.gz, GLDS-524_wgbs_GSM2684068_R2_raw.fastq.gz'"
            ],
            "application/vnd.google.colaboratory.intrinsic+json": {
              "type": "string"
            }
          },
          "metadata": {},
          "execution_count": 19
        }
      ]
    },
    {
      "cell_type": "code",
      "source": [
        "!pip install boto3"
      ],
      "metadata": {
        "id": "-ohBhuA5h3aq"
      },
      "execution_count": null,
      "outputs": []
    },
    {
      "cell_type": "code",
      "source": [
        "import boto3\n",
        "import os\n",
        "from botocore import UNSIGNED\n",
        "from botocore.client import Config"
      ],
      "metadata": {
        "id": "LY4cmrPijJL0"
      },
      "execution_count": 38,
      "outputs": []
    },
    {
      "cell_type": "code",
      "source": [
        "s3 = boto3.client('s3', config=Config(signature_version=UNSIGNED))"
      ],
      "metadata": {
        "id": "qkf8FZLUjhvt"
      },
      "execution_count": 39,
      "outputs": []
    },
    {
      "cell_type": "code",
      "source": [
        "NASA_OSDR_BUCKET = 'nasa-osdr'\n",
        "DOWNLOAD_DIR = 'nasa_osdr_fasta_files'\n",
        "os.makedirs(DOWNLOAD_DIR, exist_ok=True)"
      ],
      "metadata": {
        "id": "5ecadC4PkwkW"
      },
      "execution_count": 43,
      "outputs": []
    },
    {
      "cell_type": "code",
      "source": [
        "def download_fasta_file_from_s3(fasta_filename):\n",
        "    response = s3.list_objects_v2(Bucket=NASA_OSDR_BUCKET, Prefix='OSD-524')\n",
        "\n",
        "    if 'Contents' in response:\n",
        "        for obj in response['Contents']:\n",
        "            key = obj['Key']\n",
        "            if key.endswith(fasta_filename):\n",
        "                file_path = os.path.join(DOWNLOAD_DIR, fasta_filename)\n",
        "                s3.download_file(Bucket=NASA_OSDR_BUCKET, Key=key, Filename=file_path)\n",
        "                print('file downloaded to path:', file_path)"
      ],
      "metadata": {
        "id": "vyblOLdGkjOU"
      },
      "execution_count": 53,
      "outputs": []
    },
    {
      "cell_type": "code",
      "source": [
        "fasta_file_names.split(',')[0]"
      ],
      "metadata": {
        "colab": {
          "base_uri": "https://localhost:8080/",
          "height": 35
        },
        "id": "LaSXR2elmAyA",
        "outputId": "797c1f39-09ae-4bd5-8d9c-e28c594cd897"
      },
      "execution_count": 45,
      "outputs": [
        {
          "output_type": "execute_result",
          "data": {
            "text/plain": [
              "'GLDS-524_wgbs_GSM2684068_R1_raw.fastq.gz'"
            ],
            "application/vnd.google.colaboratory.intrinsic+json": {
              "type": "string"
            }
          },
          "metadata": {},
          "execution_count": 45
        }
      ]
    },
    {
      "cell_type": "code",
      "source": [
        "download_fasta_file_from_s3(fasta_file_names.split(',')[0])"
      ],
      "metadata": {
        "colab": {
          "base_uri": "https://localhost:8080/"
        },
        "id": "awVWhVYWjnLA",
        "outputId": "bbf0e5a0-e40a-4eb2-cba5-1a7b88c72e49"
      },
      "execution_count": 54,
      "outputs": [
        {
          "output_type": "stream",
          "name": "stdout",
          "text": [
            "file downloaded to path: nasa_osdr_fasta_files/GLDS-524_wgbs_GSM2684068_R1_raw.fastq.gz\n",
            "file downloaded to path: nasa_osdr_fasta_files/GLDS-524_wgbs_GSM2684068_R1_raw.fastq.gz\n"
          ]
        }
      ]
    },
    {
      "cell_type": "code",
      "source": [
        "!ls nasa_osdr_fasta_files"
      ],
      "metadata": {
        "colab": {
          "base_uri": "https://localhost:8080/"
        },
        "id": "xtG6X5z5mqzm",
        "outputId": "5e3f6a70-628f-45ba-fe5e-300baba48be6"
      },
      "execution_count": 55,
      "outputs": [
        {
          "output_type": "stream",
          "name": "stdout",
          "text": [
            "GLDS-524_wgbs_GSM2684068_R1_raw.fastq.gz\n"
          ]
        }
      ]
    },
    {
      "cell_type": "code",
      "source": [
        "!pip install biopython"
      ],
      "metadata": {
        "colab": {
          "base_uri": "https://localhost:8080/"
        },
        "id": "EHSynQHCnsYd",
        "outputId": "22ce6325-26f4-4249-8e51-996213e87299"
      },
      "execution_count": 58,
      "outputs": [
        {
          "output_type": "stream",
          "name": "stdout",
          "text": [
            "Collecting biopython\n",
            "  Downloading biopython-1.81-cp310-cp310-manylinux_2_17_x86_64.manylinux2014_x86_64.whl (3.1 MB)\n",
            "\u001b[2K     \u001b[90m━━━━━━━━━━━━━━━━━━━━━━━━━━━━━━━━━━━━━━━━\u001b[0m \u001b[32m3.1/3.1 MB\u001b[0m \u001b[31m22.7 MB/s\u001b[0m eta \u001b[36m0:00:00\u001b[0m\n",
            "\u001b[?25hRequirement already satisfied: numpy in /usr/local/lib/python3.10/dist-packages (from biopython) (1.23.5)\n",
            "Installing collected packages: biopython\n",
            "Successfully installed biopython-1.81\n"
          ]
        }
      ]
    },
    {
      "cell_type": "code",
      "source": [
        "from Bio import SeqIO\n",
        "import gzip"
      ],
      "metadata": {
        "id": "JZNoHBktojIu"
      },
      "execution_count": 66,
      "outputs": []
    },
    {
      "cell_type": "code",
      "source": [
        "def load_rna_sequences_from_fasta(fasta_file):\n",
        "    with gzip.open(fasta_file, \"rt\") as handle:\n",
        "        for record in SeqIO.parse(handle, \"fastq\"):\n",
        "            yield record"
      ],
      "metadata": {
        "id": "SLKB5cMNoTgI"
      },
      "execution_count": 79,
      "outputs": []
    },
    {
      "cell_type": "code",
      "source": [
        "fasta_loader = load_rna_sequences_from_fasta('nasa_osdr_fasta_files/GLDS-524_wgbs_GSM2684068_R1_raw.fastq.gz')\n",
        "sample = next(iter(fasta_loader))"
      ],
      "metadata": {
        "id": "dnHKfVfanwcl"
      },
      "execution_count": 80,
      "outputs": []
    },
    {
      "cell_type": "code",
      "source": [
        "sample.__dict__"
      ],
      "metadata": {
        "colab": {
          "base_uri": "https://localhost:8080/"
        },
        "id": "W8nG8wYnpxdC",
        "outputId": "9cbbe478-b28b-4f6b-f2ed-39a016f4aa8f"
      },
      "execution_count": 82,
      "outputs": [
        {
          "output_type": "execute_result",
          "data": {
            "text/plain": [
              "{'_seq': Seq('GTTTTTTTTAAAGTGTTAGATAGTAGTTAAAATAAGAGATATGTTTTTTATTTA...AGG'),\n",
              " 'id': 'SRR5756273.1',\n",
              " 'name': 'SRR5756273.1',\n",
              " 'description': 'SRR5756273.1 1 length=151',\n",
              " 'dbxrefs': [],\n",
              " 'annotations': {},\n",
              " '_per_letter_annotations': {'phred_quality': [32,\n",
              "   32,\n",
              "   32,\n",
              "   32,\n",
              "   32,\n",
              "   32,\n",
              "   35,\n",
              "   35,\n",
              "   35,\n",
              "   31,\n",
              "   16,\n",
              "   16,\n",
              "   35,\n",
              "   38,\n",
              "   35,\n",
              "   38,\n",
              "   38,\n",
              "   37,\n",
              "   38,\n",
              "   37,\n",
              "   38,\n",
              "   34,\n",
              "   39,\n",
              "   39,\n",
              "   39,\n",
              "   39,\n",
              "   39,\n",
              "   39,\n",
              "   39,\n",
              "   39,\n",
              "   38,\n",
              "   37,\n",
              "   38,\n",
              "   37,\n",
              "   37,\n",
              "   37,\n",
              "   33,\n",
              "   38,\n",
              "   39,\n",
              "   39,\n",
              "   39,\n",
              "   39,\n",
              "   39,\n",
              "   39,\n",
              "   39,\n",
              "   39,\n",
              "   39,\n",
              "   38,\n",
              "   38,\n",
              "   39,\n",
              "   39,\n",
              "   39,\n",
              "   39,\n",
              "   39,\n",
              "   39,\n",
              "   39,\n",
              "   39,\n",
              "   39,\n",
              "   39,\n",
              "   39,\n",
              "   39,\n",
              "   39,\n",
              "   39,\n",
              "   39,\n",
              "   39,\n",
              "   39,\n",
              "   38,\n",
              "   39,\n",
              "   39,\n",
              "   39,\n",
              "   39,\n",
              "   39,\n",
              "   39,\n",
              "   39,\n",
              "   39,\n",
              "   36,\n",
              "   35,\n",
              "   37,\n",
              "   38,\n",
              "   38,\n",
              "   39,\n",
              "   39,\n",
              "   39,\n",
              "   39,\n",
              "   39,\n",
              "   39,\n",
              "   39,\n",
              "   39,\n",
              "   38,\n",
              "   38,\n",
              "   38,\n",
              "   38,\n",
              "   38,\n",
              "   39,\n",
              "   39,\n",
              "   39,\n",
              "   39,\n",
              "   39,\n",
              "   39,\n",
              "   39,\n",
              "   37,\n",
              "   32,\n",
              "   38,\n",
              "   34,\n",
              "   30,\n",
              "   36,\n",
              "   39,\n",
              "   39,\n",
              "   39,\n",
              "   39,\n",
              "   39,\n",
              "   39,\n",
              "   39,\n",
              "   39,\n",
              "   39,\n",
              "   39,\n",
              "   39,\n",
              "   39,\n",
              "   39,\n",
              "   39,\n",
              "   39,\n",
              "   39,\n",
              "   39,\n",
              "   39,\n",
              "   39,\n",
              "   39,\n",
              "   39,\n",
              "   39,\n",
              "   39,\n",
              "   39,\n",
              "   39,\n",
              "   39,\n",
              "   39,\n",
              "   39,\n",
              "   39,\n",
              "   39,\n",
              "   39,\n",
              "   39,\n",
              "   39,\n",
              "   39,\n",
              "   39,\n",
              "   39,\n",
              "   39,\n",
              "   39,\n",
              "   39,\n",
              "   39,\n",
              "   39,\n",
              "   39,\n",
              "   39,\n",
              "   37,\n",
              "   16]},\n",
              " 'features': []}"
            ]
          },
          "metadata": {},
          "execution_count": 82
        }
      ]
    },
    {
      "cell_type": "code",
      "source": [
        "!git clone https://github.com/mana438/RNABERT.git"
      ],
      "metadata": {
        "colab": {
          "base_uri": "https://localhost:8080/"
        },
        "id": "wparXaEtv2Qt",
        "outputId": "e08b7863-f5a1-42e7-dc3f-f9491b1c28da"
      },
      "execution_count": 83,
      "outputs": [
        {
          "output_type": "stream",
          "name": "stdout",
          "text": [
            "Cloning into 'RNABERT'...\n",
            "remote: Enumerating objects: 80, done.\u001b[K\n",
            "remote: Counting objects: 100% (80/80), done.\u001b[K\n",
            "remote: Compressing objects: 100% (53/53), done.\u001b[K\n",
            "remote: Total 80 (delta 31), reused 66 (delta 17), pack-reused 0\u001b[K\n",
            "Receiving objects: 100% (80/80), 347.43 KiB | 3.66 MiB/s, done.\n",
            "Resolving deltas: 100% (31/31), done.\n"
          ]
        }
      ]
    },
    {
      "cell_type": "code",
      "source": [
        "!apt-get install -y g++"
      ],
      "metadata": {
        "colab": {
          "base_uri": "https://localhost:8080/"
        },
        "id": "c6piQrP_wPzN",
        "outputId": "0d8a7610-3f53-465b-a421-74f416752ba8"
      },
      "execution_count": 84,
      "outputs": [
        {
          "output_type": "stream",
          "name": "stdout",
          "text": [
            "Reading package lists... Done\n",
            "Building dependency tree... Done\n",
            "Reading state information... Done\n",
            "g++ is already the newest version (4:11.2.0-1ubuntu1).\n",
            "g++ set to manually installed.\n",
            "0 upgraded, 0 newly installed, 0 to remove and 18 not upgraded.\n"
          ]
        }
      ]
    },
    {
      "cell_type": "code",
      "source": [
        "!apt-get install build-essential"
      ],
      "metadata": {
        "colab": {
          "base_uri": "https://localhost:8080/"
        },
        "id": "B4L3Z8ThxbgM",
        "outputId": "b31c0bf5-4b0a-4004-a622-7d9a69f6713f"
      },
      "execution_count": 88,
      "outputs": [
        {
          "output_type": "stream",
          "name": "stdout",
          "text": [
            "Reading package lists... Done\n",
            "Building dependency tree... Done\n",
            "Reading state information... Done\n",
            "build-essential is already the newest version (12.9ubuntu3).\n",
            "0 upgraded, 0 newly installed, 0 to remove and 18 not upgraded.\n"
          ]
        }
      ]
    },
    {
      "cell_type": "code",
      "source": [
        "!cd RNABERT && python setup.py install"
      ],
      "metadata": {
        "colab": {
          "base_uri": "https://localhost:8080/"
        },
        "id": "AMqC0L82w9re",
        "outputId": "537b032d-be46-4903-e514-55bb34675eab"
      },
      "execution_count": 87,
      "outputs": [
        {
          "output_type": "stream",
          "name": "stdout",
          "text": [
            "/usr/local/lib/python3.10/dist-packages/setuptools/_distutils/cmd.py:66: SetuptoolsDeprecationWarning: setup.py install is deprecated.\n",
            "!!\n",
            "\n",
            "        ********************************************************************************\n",
            "        Please avoid running ``setup.py`` directly.\n",
            "        Instead, use pypa/build, pypa/installer, pypa/build or\n",
            "        other standards-based tools.\n",
            "\n",
            "        See https://blog.ganssle.io/articles/2021/10/setup-py-deprecated.html for details.\n",
            "        ********************************************************************************\n",
            "\n",
            "!!\n",
            "  self.initialize_options()\n",
            "/usr/local/lib/python3.10/dist-packages/setuptools/_distutils/cmd.py:66: EasyInstallDeprecationWarning: easy_install command is deprecated.\n",
            "!!\n",
            "\n",
            "        ********************************************************************************\n",
            "        Please avoid running ``setup.py`` and ``easy_install``.\n",
            "        Instead, use pypa/build, pypa/installer, pypa/build or\n",
            "        other standards-based tools.\n",
            "\n",
            "        See https://github.com/pypa/setuptools/issues/917 for details.\n",
            "        ********************************************************************************\n",
            "\n",
            "!!\n",
            "  self.initialize_options()\n",
            "\u001b[01m\u001b[Kalignment.cpp:\u001b[m\u001b[K In function ‘\u001b[01m\u001b[KPyObject* c_multiply_list(PyObject*, PyObject*, PyObject*, int, std::string, std::string, int, int, double, double, int, int)\u001b[m\u001b[K’:\n",
            "\u001b[01m\u001b[Kalignment.cpp:332:23:\u001b[m\u001b[K \u001b[01;35m\u001b[Kwarning: \u001b[m\u001b[Kcomparison of integer expressions of different signedness: ‘\u001b[01m\u001b[Kint\u001b[m\u001b[K’ and ‘\u001b[01m\u001b[Kstd::__cxx11::basic_string<char>::size_type\u001b[m\u001b[K’ {aka ‘\u001b[01m\u001b[Klong unsigned int\u001b[m\u001b[K’} [\u001b[01;35m\u001b[K\u001b]8;;https://gcc.gnu.org/onlinedocs/gcc/Warning-Options.html#index-Wsign-compare\u0007-Wsign-compare\u001b]8;;\u0007\u001b[m\u001b[K]\n",
            "  332 |     for (int i = 0; \u001b[01;35m\u001b[Ki < A_al.length()\u001b[m\u001b[K; i++){\n",
            "      |                     \u001b[01;35m\u001b[K~~^~~~~~~~~~~~~~~\u001b[m\u001b[K\n",
            "In file included from \u001b[01m\u001b[K/usr/include/python3.10/Python.h:74\u001b[m\u001b[K,\n",
            "                 from \u001b[01m\u001b[Kalignment.cpp:1\u001b[m\u001b[K:\n",
            "\u001b[01m\u001b[Kalignment.cpp:\u001b[m\u001b[K In function ‘\u001b[01m\u001b[KPyObject* py_list(PyObject*, PyObject*)\u001b[m\u001b[K’:\n",
            "\u001b[01m\u001b[K/usr/include/python3.10/object.h:734:41:\u001b[m\u001b[K \u001b[01;31m\u001b[Kerror: \u001b[m\u001b[Kexpected ‘\u001b[01m\u001b[K(\u001b[m\u001b[K’ before ‘\u001b[01m\u001b[KPyType_HasFeature\u001b[m\u001b[K’\n",
            "  734 | #define PyType_FastSubclass(type, flag) \u001b[01;31m\u001b[KPyType_HasFeature\u001b[m\u001b[K(type, flag)\n",
            "      |                                         \u001b[01;31m\u001b[K^~~~~~~~~~~~~~~~~\u001b[m\u001b[K\n",
            "\u001b[01m\u001b[K/usr/include/python3.10/listobject.h:25:5:\u001b[m\u001b[K \u001b[01;36m\u001b[Knote: \u001b[m\u001b[Kin expansion of macro ‘\u001b[01m\u001b[KPyType_FastSubclass\u001b[m\u001b[K’\n",
            "   25 |     \u001b[01;36m\u001b[KPyType_FastSubclass\u001b[m\u001b[K(Py_TYPE(op), Py_TPFLAGS_LIST_SUBCLASS)\n",
            "      |     \u001b[01;36m\u001b[K^~~~~~~~~~~~~~~~~~~\u001b[m\u001b[K\n",
            "\u001b[01m\u001b[Kalignment.cpp:384:8:\u001b[m\u001b[K \u001b[01;36m\u001b[Knote: \u001b[m\u001b[Kin expansion of macro ‘\u001b[01m\u001b[KPyList_Check\u001b[m\u001b[K’\n",
            "  384 |     if \u001b[01;36m\u001b[KPyList_Check\u001b[m\u001b[K(c_list){\n",
            "      |        \u001b[01;36m\u001b[K^~~~~~~~~~~~\u001b[m\u001b[K\n",
            "\u001b[01m\u001b[Kalignment.cpp:387:6:\u001b[m\u001b[K \u001b[01;31m\u001b[Kerror: \u001b[m\u001b[K‘\u001b[01m\u001b[Kelse\u001b[m\u001b[K’ without a previous ‘\u001b[01m\u001b[Kif\u001b[m\u001b[K’\n",
            "  387 |     }\u001b[01;31m\u001b[Kelse\u001b[m\u001b[K{\n",
            "      |      \u001b[01;31m\u001b[K^~~~\u001b[m\u001b[K\n",
            "In file included from \u001b[01m\u001b[K/usr/include/python3.10/Python.h:74\u001b[m\u001b[K,\n",
            "                 from \u001b[01m\u001b[Kalignment.cpp:1\u001b[m\u001b[K:\n",
            "\u001b[01m\u001b[K/usr/include/python3.10/object.h:734:41:\u001b[m\u001b[K \u001b[01;31m\u001b[Kerror: \u001b[m\u001b[Kexpected ‘\u001b[01m\u001b[K(\u001b[m\u001b[K’ before ‘\u001b[01m\u001b[KPyType_HasFeature\u001b[m\u001b[K’\n",
            "  734 | #define PyType_FastSubclass(type, flag) \u001b[01;31m\u001b[KPyType_HasFeature\u001b[m\u001b[K(type, flag)\n",
            "      |                                         \u001b[01;31m\u001b[K^~~~~~~~~~~~~~~~~\u001b[m\u001b[K\n",
            "\u001b[01m\u001b[K/usr/include/python3.10/listobject.h:25:5:\u001b[m\u001b[K \u001b[01;36m\u001b[Knote: \u001b[m\u001b[Kin expansion of macro ‘\u001b[01m\u001b[KPyType_FastSubclass\u001b[m\u001b[K’\n",
            "   25 |     \u001b[01;36m\u001b[KPyType_FastSubclass\u001b[m\u001b[K(Py_TYPE(op), Py_TPFLAGS_LIST_SUBCLASS)\n",
            "      |     \u001b[01;36m\u001b[K^~~~~~~~~~~~~~~~~~~\u001b[m\u001b[K\n",
            "\u001b[01m\u001b[Kalignment.cpp:392:8:\u001b[m\u001b[K \u001b[01;36m\u001b[Knote: \u001b[m\u001b[Kin expansion of macro ‘\u001b[01m\u001b[KPyList_Check\u001b[m\u001b[K’\n",
            "  392 |     if \u001b[01;36m\u001b[KPyList_Check\u001b[m\u001b[K(d_list){\n",
            "      |        \u001b[01;36m\u001b[K^~~~~~~~~~~~\u001b[m\u001b[K\n",
            "\u001b[01m\u001b[Kalignment.cpp:395:6:\u001b[m\u001b[K \u001b[01;31m\u001b[Kerror: \u001b[m\u001b[K‘\u001b[01m\u001b[Kelse\u001b[m\u001b[K’ without a previous ‘\u001b[01m\u001b[Kif\u001b[m\u001b[K’\n",
            "  395 |     }\u001b[01;31m\u001b[Kelse\u001b[m\u001b[K{\n",
            "      |      \u001b[01;31m\u001b[K^~~~\u001b[m\u001b[K\n",
            "In file included from \u001b[01m\u001b[K/usr/include/python3.10/Python.h:74\u001b[m\u001b[K,\n",
            "                 from \u001b[01m\u001b[Kalignment.cpp:1\u001b[m\u001b[K:\n",
            "\u001b[01m\u001b[K/usr/include/python3.10/object.h:734:41:\u001b[m\u001b[K \u001b[01;31m\u001b[Kerror: \u001b[m\u001b[Kexpected ‘\u001b[01m\u001b[K(\u001b[m\u001b[K’ before ‘\u001b[01m\u001b[KPyType_HasFeature\u001b[m\u001b[K’\n",
            "  734 | #define PyType_FastSubclass(type, flag) \u001b[01;31m\u001b[KPyType_HasFeature\u001b[m\u001b[K(type, flag)\n",
            "      |                                         \u001b[01;31m\u001b[K^~~~~~~~~~~~~~~~~\u001b[m\u001b[K\n",
            "\u001b[01m\u001b[K/usr/include/python3.10/listobject.h:25:5:\u001b[m\u001b[K \u001b[01;36m\u001b[Knote: \u001b[m\u001b[Kin expansion of macro ‘\u001b[01m\u001b[KPyType_FastSubclass\u001b[m\u001b[K’\n",
            "   25 |     \u001b[01;36m\u001b[KPyType_FastSubclass\u001b[m\u001b[K(Py_TYPE(op), Py_TPFLAGS_LIST_SUBCLASS)\n",
            "      |     \u001b[01;36m\u001b[K^~~~~~~~~~~~~~~~~~~\u001b[m\u001b[K\n",
            "\u001b[01m\u001b[Kalignment.cpp:400:8:\u001b[m\u001b[K \u001b[01;36m\u001b[Knote: \u001b[m\u001b[Kin expansion of macro ‘\u001b[01m\u001b[KPyList_Check\u001b[m\u001b[K’\n",
            "  400 |     if \u001b[01;36m\u001b[KPyList_Check\u001b[m\u001b[K(e_list){\n",
            "      |        \u001b[01;36m\u001b[K^~~~~~~~~~~~\u001b[m\u001b[K\n",
            "\u001b[01m\u001b[Kalignment.cpp:403:6:\u001b[m\u001b[K \u001b[01;31m\u001b[Kerror: \u001b[m\u001b[K‘\u001b[01m\u001b[Kelse\u001b[m\u001b[K’ without a previous ‘\u001b[01m\u001b[Kif\u001b[m\u001b[K’\n",
            "  403 |     }\u001b[01;31m\u001b[Kelse\u001b[m\u001b[K{\n",
            "      |      \u001b[01;31m\u001b[K^~~~\u001b[m\u001b[K\n",
            "error: command '/usr/bin/x86_64-linux-gnu-gcc' failed with exit code 1\n"
          ]
        }
      ]
    }
  ]
}